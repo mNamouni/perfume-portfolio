{
 "cells": [
  {
   "cell_type": "markdown",
   "metadata": {},
   "source": [
    "# Perfume Project Portfolio\n",
    "\n",
    "## 🪞 Introduction\n",
    "Exploring emotional expression, trends, and consumer behavior in perfume communities.\n",
    "\n",
    "## 🌐 Data Collection\n",
    "Reddit (using PRAW). Posts from r/fragrance.\n",
    "\n",
    "## 🧹 Data Cleaning\n",
    "Removing stopwords, symbols, formatting, emojis.\n",
    "\n",
    "## 🔍 Exploratory Data Analysis (EDA)\n",
    "Word frequency, top perfumes mentioned, trends.\n",
    "\n",
    "## ❤️ Sentiment Analysis\n",
    "How do people *feel* about scents? Positive/negative/neutral or emotional categories (joy, longing, etc.).\n",
    "\n",
    "## 🧠 Topic Modeling (Optional)\n",
    "Uncover themes: first dates, summer scents, confidence boosters.\n",
    "\n",
    "## 📊 Visualizations\n",
    "Bar charts, word clouds, timelines.\n",
    "\n",
    "## 💡 Insights & Takeaways\n",
    "Key patterns or narratives. What surprised us?\n",
    "\n",
    "## 🔚 Conclusion\n",
    "Final thoughts. Future work. Possible brand applications.\n"
   ]
  }
 ],
 "metadata": {
  "language_info": {
   "name": "python"
  }
 },
 "nbformat": 4,
 "nbformat_minor": 2
}
